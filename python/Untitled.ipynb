{
 "cells": [
  {
   "cell_type": "code",
   "execution_count": 1,
   "id": "c31bbcb7",
   "metadata": {},
   "outputs": [],
   "source": [
    "from pyiceberg.expressions.base import LtEq"
   ]
  },
  {
   "cell_type": "code",
   "execution_count": 2,
   "id": "5f9086b1",
   "metadata": {},
   "outputs": [
    {
     "ename": "TypeError",
     "evalue": "__init__() takes 1 positional argument but 3 were given",
     "output_type": "error",
     "traceback": [
      "\u001b[0;31m---------------------------------------------------------------------------\u001b[0m",
      "\u001b[0;31mTypeError\u001b[0m                                 Traceback (most recent call last)",
      "Input \u001b[0;32mIn [2]\u001b[0m, in \u001b[0;36m<cell line: 1>\u001b[0;34m()\u001b[0m\n\u001b[0;32m----> 1\u001b[0m \u001b[43mLtEq\u001b[49m\u001b[43m(\u001b[49m\u001b[38;5;241;43m4\u001b[39;49m\u001b[43m,\u001b[49m\u001b[43m \u001b[49m\u001b[38;5;241;43m5\u001b[39;49m\u001b[43m)\u001b[49m\n",
      "\u001b[0;31mTypeError\u001b[0m: __init__() takes 1 positional argument but 3 were given"
     ]
    }
   ],
   "source": [
    "LtEq(4, 5)"
   ]
  },
  {
   "cell_type": "code",
   "execution_count": 2,
   "id": "c2ee6d52",
   "metadata": {},
   "outputs": [],
   "source": [
    "LtEq.__new__??"
   ]
  },
  {
   "cell_type": "code",
   "execution_count": 3,
   "id": "2a78941a",
   "metadata": {},
   "outputs": [],
   "source": [
    "from dataclasses import field"
   ]
  },
  {
   "cell_type": "code",
   "execution_count": 4,
   "id": "be1011c2",
   "metadata": {},
   "outputs": [],
   "source": [
    "field?"
   ]
  },
  {
   "cell_type": "code",
   "execution_count": 21,
   "id": "7dd9d13f",
   "metadata": {},
   "outputs": [],
   "source": [
    "class A:\n",
    "    def __init__(self):\n",
    "        self.__c()\n",
    "    def __c(self):\n",
    "        print('a')\n",
    "        \n",
    "class B(A):\n",
    "\n",
    "    def __c(self):\n",
    "        print('b')"
   ]
  },
  {
   "cell_type": "code",
   "execution_count": 22,
   "id": "6a9569fa",
   "metadata": {},
   "outputs": [
    {
     "name": "stdout",
     "output_type": "stream",
     "text": [
      "a\n"
     ]
    },
    {
     "data": {
      "text/plain": [
       "<__main__.A at 0x7ffa9c59e3d0>"
      ]
     },
     "execution_count": 22,
     "metadata": {},
     "output_type": "execute_result"
    }
   ],
   "source": [
    "A()"
   ]
  },
  {
   "cell_type": "code",
   "execution_count": 23,
   "id": "f51a2904",
   "metadata": {},
   "outputs": [
    {
     "name": "stdout",
     "output_type": "stream",
     "text": [
      "a\n"
     ]
    },
    {
     "data": {
      "text/plain": [
       "<__main__.B at 0x7ffaac606040>"
      ]
     },
     "execution_count": 23,
     "metadata": {},
     "output_type": "execute_result"
    }
   ],
   "source": [
    "B()"
   ]
  },
  {
   "cell_type": "code",
   "execution_count": null,
   "id": "392a02bc",
   "metadata": {},
   "outputs": [],
   "source": []
  }
 ],
 "metadata": {
  "kernelspec": {
   "display_name": "Python 3 (ipykernel)",
   "language": "python",
   "name": "python3"
  },
  "language_info": {
   "codemirror_mode": {
    "name": "ipython",
    "version": 3
   },
   "file_extension": ".py",
   "mimetype": "text/x-python",
   "name": "python",
   "nbconvert_exporter": "python",
   "pygments_lexer": "ipython3",
   "version": "3.9.12"
  }
 },
 "nbformat": 4,
 "nbformat_minor": 5
}
