{
 "cells": [
  {
   "cell_type": "code",
   "execution_count": 1,
   "id": "053f20a5",
   "metadata": {},
   "outputs": [],
   "source": [
    "from pyiceberg.expressions import base"
   ]
  },
  {
   "cell_type": "code",
   "execution_count": 2,
   "id": "ad668ef0",
   "metadata": {},
   "outputs": [],
   "source": [
    "from pyiceberg.expressions.literals import LongLiteral, StringLiteral, literal"
   ]
  },
  {
   "cell_type": "code",
   "execution_count": 3,
   "id": "9f453a80",
   "metadata": {},
   "outputs": [
    {
     "name": "stdout",
     "output_type": "stream",
     "text": [
      "Automatic pdb calling has been turned ON\n"
     ]
    }
   ],
   "source": [
    "%pdb"
   ]
  },
  {
   "cell_type": "code",
   "execution_count": 4,
   "id": "05972ae4",
   "metadata": {},
   "outputs": [
    {
     "data": {
      "text/plain": [
       "IsNull(Reference(name='x')None)"
      ]
     },
     "execution_count": 4,
     "metadata": {},
     "output_type": "execute_result"
    }
   ],
   "source": [
    "base.IsNull(base.Reference('x'))"
   ]
  },
  {
   "cell_type": "code",
   "execution_count": 5,
   "id": "2c02fa13",
   "metadata": {},
   "outputs": [
    {
     "data": {
      "text/plain": [
       "Gt(Reference(name='Bar'), (StringLiteral(hello),))"
      ]
     },
     "execution_count": 5,
     "metadata": {},
     "output_type": "execute_result"
    }
   ],
   "source": [
    "base.Gt(base.Reference(\"Bar\"), literal(\"hello\"))"
   ]
  },
  {
   "cell_type": "code",
   "execution_count": null,
   "id": "61375842",
   "metadata": {},
   "outputs": [],
   "source": []
  }
 ],
 "metadata": {
  "kernelspec": {
   "display_name": "Python 3 (ipykernel)",
   "language": "python",
   "name": "python3"
  },
  "language_info": {
   "codemirror_mode": {
    "name": "ipython",
    "version": 3
   },
   "file_extension": ".py",
   "mimetype": "text/x-python",
   "name": "python",
   "nbconvert_exporter": "python",
   "pygments_lexer": "ipython3",
   "version": "3.9.12"
  }
 },
 "nbformat": 4,
 "nbformat_minor": 5
}
